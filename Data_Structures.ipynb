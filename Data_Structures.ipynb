{
  "nbformat": 4,
  "nbformat_minor": 0,
  "metadata": {
    "colab": {
      "provenance": [],
      "authorship_tag": "ABX9TyOte3SI2puvsgrquHTOI7KV",
      "include_colab_link": true
    },
    "kernelspec": {
      "name": "python3",
      "display_name": "Python 3"
    },
    "language_info": {
      "name": "python"
    }
  },
  "cells": [
    {
      "cell_type": "markdown",
      "metadata": {
        "id": "view-in-github",
        "colab_type": "text"
      },
      "source": [
        "<a href=\"https://colab.research.google.com/github/ACHRP/Data-Structures/blob/main/Data_Structures.ipynb\" target=\"_parent\"><img src=\"https://colab.research.google.com/assets/colab-badge.svg\" alt=\"Open In Colab\"/></a>"
      ]
    },
    {
      "cell_type": "code",
      "execution_count": 1,
      "metadata": {
        "id": "LMKpwMxV8diA",
        "outputId": "93456267-8aee-4924-94cd-aaf9045d491b",
        "colab": {
          "base_uri": "https://localhost:8080/"
        }
      },
      "outputs": [
        {
          "output_type": "stream",
          "name": "stdout",
          "text": [
            "[1, 2, 3.5, 4, 6, 6, 'Destiny', True, False]\n"
          ]
        }
      ],
      "source": [
        "#Created a list\n",
        "\n",
        "X = [1, 2, 3.5, 4, 6, 6, \"Destiny\", True, False]\n",
        "print(X)"
      ]
    },
    {
      "cell_type": "markdown",
      "source": [
        "# List\n",
        "The above is a list named X which prints different data types."
      ],
      "metadata": {
        "id": "f8G49RjW_C1k"
      }
    },
    {
      "cell_type": "code",
      "source": [
        "y = {\"Name\":\"Den\", \"University\":\"Gisma\", \"Year\":2025, \"Age\":46, \"Marital_Staus\":\"Married\", \"Children\":2, \"Gender\":\"Male\"}\n",
        "print(y)"
      ],
      "metadata": {
        "id": "y_AUKWe5_sjT",
        "outputId": "9c0e029b-aabb-4f8a-dd71-65bebf65f58a",
        "colab": {
          "base_uri": "https://localhost:8080/"
        }
      },
      "execution_count": 3,
      "outputs": [
        {
          "output_type": "stream",
          "name": "stdout",
          "text": [
            "{'Name': 'Den', 'University': 'Gisma', 'Year': 2025, 'Age': 46, 'Marital_Staus': 'Married', 'Children': 2, 'Gender': 'Male'}\n"
          ]
        }
      ]
    },
    {
      "cell_type": "markdown",
      "source": [
        "# Dictionary\n",
        "The above is a dictionary named y which prints data from users."
      ],
      "metadata": {
        "id": "MsA3odaWCOOq"
      }
    },
    {
      "cell_type": "code",
      "source": [
        "Tuple = (\"Den\", 46, \"Gisma\", \"Married\", 2, \"Male\", 2025)\n",
        "print(Tuple)"
      ],
      "metadata": {
        "id": "DiYD_VX8BJzJ",
        "outputId": "aca8ebdd-3e3d-48a3-8675-a3a0a91b830e",
        "colab": {
          "base_uri": "https://localhost:8080/"
        }
      },
      "execution_count": 6,
      "outputs": [
        {
          "output_type": "stream",
          "name": "stdout",
          "text": [
            "('Den', 46, 'Gisma', 'Married', 2, 'Male', 2025)\n"
          ]
        }
      ]
    },
    {
      "cell_type": "markdown",
      "source": [
        "# Tuple\n",
        "The above is a tuple detailing a student details."
      ],
      "metadata": {
        "id": "sh8g0BPmDUCB"
      }
    },
    {
      "cell_type": "code",
      "source": [
        "Set = {1, 2, 1, 2,3, 4, 1, 3, 2, 1, 3, 2, 4, 4, 5, 6}\n",
        "print(Set)"
      ],
      "metadata": {
        "id": "KpURA-OdD_Z1",
        "outputId": "bd05c0f9-df17-40bb-9709-477b72b290f7",
        "colab": {
          "base_uri": "https://localhost:8080/"
        }
      },
      "execution_count": 7,
      "outputs": [
        {
          "output_type": "stream",
          "name": "stdout",
          "text": [
            "{1, 2, 3, 4, 5, 6}\n"
          ]
        }
      ]
    },
    {
      "cell_type": "markdown",
      "source": [
        "# Set\n",
        "The above is a set that removes duplicates from the list."
      ],
      "metadata": {
        "id": "T6geF5LNEpbH"
      }
    },
    {
      "cell_type": "code",
      "source": [],
      "metadata": {
        "id": "fcImZdCAEnic"
      },
      "execution_count": null,
      "outputs": []
    }
  ]
}