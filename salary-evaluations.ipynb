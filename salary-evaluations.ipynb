{
 "cells": [
  {
   "cell_type": "code",
   "execution_count": 1,
   "id": "cd5c1f9c",
   "metadata": {
    "_cell_guid": "b1076dfc-b9ad-4769-8c92-a6c4dae69d19",
    "_uuid": "8f2839f25d086af736a60e9eeb907d3b93b6e0e5",
    "execution": {
     "iopub.execute_input": "2025-02-17T01:14:13.881244Z",
     "iopub.status.busy": "2025-02-17T01:14:13.880891Z",
     "iopub.status.idle": "2025-02-17T01:14:14.747666Z",
     "shell.execute_reply": "2025-02-17T01:14:14.746430Z"
    },
    "papermill": {
     "duration": 0.872827,
     "end_time": "2025-02-17T01:14:14.749010",
     "exception": false,
     "start_time": "2025-02-17T01:14:13.876183",
     "status": "completed"
    },
    "tags": []
   },
   "outputs": [
    {
     "name": "stdout",
     "output_type": "stream",
     "text": [
      "/kaggle/input/salary-dataset-simple-linear-regression/Salary_dataset.csv\n"
     ]
    }
   ],
   "source": [
    "# This Python 3 environment comes with many helpful analytics libraries installed\n",
    "# It is defined by the kaggle/python Docker image: https://github.com/kaggle/docker-python\n",
    "# For example, here's several helpful packages to load\n",
    "\n",
    "import numpy as np # linear algebra\n",
    "import pandas as pd # data processing, CSV file I/O (e.g. pd.read_csv)\n",
    "\n",
    "# Input data files are available in the read-only \"../input/\" directory\n",
    "# For example, running this (by clicking run or pressing Shift+Enter) will list all files under the input directory\n",
    "\n",
    "import os\n",
    "for dirname, _, filenames in os.walk('/kaggle/input'):\n",
    "    for filename in filenames:\n",
    "        print(os.path.join(dirname, filename))\n",
    "\n",
    "# You can write up to 20GB to the current directory (/kaggle/working/) that gets preserved as output when you create a version using \"Save & Run All\" \n",
    "# You can also write temporary files to /kaggle/temp/, but they won't be saved outside of the current session"
   ]
  },
  {
   "cell_type": "code",
   "execution_count": null,
   "id": "1d8bc5d5",
   "metadata": {
    "papermill": {
     "duration": 0.002703,
     "end_time": "2025-02-17T01:14:14.755032",
     "exception": false,
     "start_time": "2025-02-17T01:14:14.752329",
     "status": "completed"
    },
    "tags": []
   },
   "outputs": [],
   "source": []
  },
  {
   "cell_type": "markdown",
   "id": "dd10a47c",
   "metadata": {
    "papermill": {
     "duration": 0.00252,
     "end_time": "2025-02-17T01:14:14.760321",
     "exception": false,
     "start_time": "2025-02-17T01:14:14.757801",
     "status": "completed"
    },
    "tags": []
   },
   "source": [
    "# ABOUT THIS DATASET\n",
    "* The dataset shows the correlation between salary levels versus the years of experience.  \n",
    "* This dataset came Kaggle.com and it was created by Allena Venkata Sai Abhishek ([Dataset Link](https://www.kaggle.com/datasets/abhishek14398/salary-dataset-simple-linear-regression)).\n",
    "\n",
    "**Significance of the dataset**  \n",
    "\n",
    "* Years of experience has a great significance on salary.\n",
    "* Employees with many years of experience earn more. \n",
    " \n",
    "\n",
    "**Significance of Analysis**  \n",
    "* To understannd the relationship between years of experience and the slary level"
   ]
  },
  {
   "cell_type": "markdown",
   "id": "f1516496",
   "metadata": {
    "papermill": {
     "duration": 0.00258,
     "end_time": "2025-02-17T01:14:14.765680",
     "exception": false,
     "start_time": "2025-02-17T01:14:14.763100",
     "status": "completed"
    },
    "tags": []
   },
   "source": [
    "# Data Preprocessing\n",
    "1. We shall understand what our data is all about\n",
    "2. We shall do data cleanup\n",
    "   "
   ]
  },
  {
   "cell_type": "markdown",
   "id": "d4202a0f",
   "metadata": {
    "papermill": {
     "duration": 0.002495,
     "end_time": "2025-02-17T01:14:14.770922",
     "exception": false,
     "start_time": "2025-02-17T01:14:14.768427",
     "status": "completed"
    },
    "tags": []
   },
   "source": [
    "**Data Loading**\n",
    "\n",
    "* Import the librarys\n",
    "* Import pandas for dataset manipulation.\n",
    "* Import Numpy for mathemaatical operations\n",
    "* import Matplotlib for ploting\n",
    "* import Seaborn for advanced graphs and graphs styling.\n"
   ]
  },
  {
   "cell_type": "code",
   "execution_count": 2,
   "id": "4e70f346",
   "metadata": {
    "execution": {
     "iopub.execute_input": "2025-02-17T01:14:14.778012Z",
     "iopub.status.busy": "2025-02-17T01:14:14.777503Z",
     "iopub.status.idle": "2025-02-17T01:14:16.279115Z",
     "shell.execute_reply": "2025-02-17T01:14:16.278126Z"
    },
    "papermill": {
     "duration": 1.506959,
     "end_time": "2025-02-17T01:14:16.280676",
     "exception": false,
     "start_time": "2025-02-17T01:14:14.773717",
     "status": "completed"
    },
    "tags": []
   },
   "outputs": [],
   "source": [
    "import numpy as np\n",
    "import pandas as pd\n",
    "import matplotlib.pyplot as plt\n",
    "import seaborn as sns"
   ]
  },
  {
   "cell_type": "markdown",
   "id": "5afb6c56",
   "metadata": {
    "papermill": {
     "duration": 0.002939,
     "end_time": "2025-02-17T01:14:16.287145",
     "exception": false,
     "start_time": "2025-02-17T01:14:16.284206",
     "status": "completed"
    },
    "tags": []
   },
   "source": [
    "# Read\n",
    "* Read the dataset"
   ]
  },
  {
   "cell_type": "code",
   "execution_count": 3,
   "id": "5b25513a",
   "metadata": {
    "execution": {
     "iopub.execute_input": "2025-02-17T01:14:16.294502Z",
     "iopub.status.busy": "2025-02-17T01:14:16.293921Z",
     "iopub.status.idle": "2025-02-17T01:14:16.311504Z",
     "shell.execute_reply": "2025-02-17T01:14:16.310374Z"
    },
    "papermill": {
     "duration": 0.022968,
     "end_time": "2025-02-17T01:14:16.313128",
     "exception": false,
     "start_time": "2025-02-17T01:14:16.290160",
     "status": "completed"
    },
    "tags": []
   },
   "outputs": [],
   "source": [
    "Salary = pd.read_csv(\"/kaggle/input/salary-dataset-simple-linear-regression/Salary_dataset.csv\")"
   ]
  },
  {
   "cell_type": "markdown",
   "id": "e8ff098e",
   "metadata": {
    "papermill": {
     "duration": 0.002632,
     "end_time": "2025-02-17T01:14:16.319142",
     "exception": false,
     "start_time": "2025-02-17T01:14:16.316510",
     "status": "completed"
    },
    "tags": []
   },
   "source": [
    "# Diplay the first 5 rows and columns\n",
    "* Use the head function to display."
   ]
  },
  {
   "cell_type": "code",
   "execution_count": 4,
   "id": "1f867f10",
   "metadata": {
    "execution": {
     "iopub.execute_input": "2025-02-17T01:14:16.325908Z",
     "iopub.status.busy": "2025-02-17T01:14:16.325586Z",
     "iopub.status.idle": "2025-02-17T01:14:16.350290Z",
     "shell.execute_reply": "2025-02-17T01:14:16.349070Z"
    },
    "papermill": {
     "duration": 0.030186,
     "end_time": "2025-02-17T01:14:16.352101",
     "exception": false,
     "start_time": "2025-02-17T01:14:16.321915",
     "status": "completed"
    },
    "tags": []
   },
   "outputs": [
    {
     "data": {
      "text/html": [
       "<div>\n",
       "<style scoped>\n",
       "    .dataframe tbody tr th:only-of-type {\n",
       "        vertical-align: middle;\n",
       "    }\n",
       "\n",
       "    .dataframe tbody tr th {\n",
       "        vertical-align: top;\n",
       "    }\n",
       "\n",
       "    .dataframe thead th {\n",
       "        text-align: right;\n",
       "    }\n",
       "</style>\n",
       "<table border=\"1\" class=\"dataframe\">\n",
       "  <thead>\n",
       "    <tr style=\"text-align: right;\">\n",
       "      <th></th>\n",
       "      <th>Unnamed: 0</th>\n",
       "      <th>YearsExperience</th>\n",
       "      <th>Salary</th>\n",
       "    </tr>\n",
       "  </thead>\n",
       "  <tbody>\n",
       "    <tr>\n",
       "      <th>0</th>\n",
       "      <td>0</td>\n",
       "      <td>1.2</td>\n",
       "      <td>39344.0</td>\n",
       "    </tr>\n",
       "    <tr>\n",
       "      <th>1</th>\n",
       "      <td>1</td>\n",
       "      <td>1.4</td>\n",
       "      <td>46206.0</td>\n",
       "    </tr>\n",
       "    <tr>\n",
       "      <th>2</th>\n",
       "      <td>2</td>\n",
       "      <td>1.6</td>\n",
       "      <td>37732.0</td>\n",
       "    </tr>\n",
       "    <tr>\n",
       "      <th>3</th>\n",
       "      <td>3</td>\n",
       "      <td>2.1</td>\n",
       "      <td>43526.0</td>\n",
       "    </tr>\n",
       "    <tr>\n",
       "      <th>4</th>\n",
       "      <td>4</td>\n",
       "      <td>2.3</td>\n",
       "      <td>39892.0</td>\n",
       "    </tr>\n",
       "  </tbody>\n",
       "</table>\n",
       "</div>"
      ],
      "text/plain": [
       "   Unnamed: 0  YearsExperience   Salary\n",
       "0           0              1.2  39344.0\n",
       "1           1              1.4  46206.0\n",
       "2           2              1.6  37732.0\n",
       "3           3              2.1  43526.0\n",
       "4           4              2.3  39892.0"
      ]
     },
     "execution_count": 4,
     "metadata": {},
     "output_type": "execute_result"
    }
   ],
   "source": [
    "Salary.head()"
   ]
  },
  {
   "cell_type": "markdown",
   "id": "4b75d851",
   "metadata": {
    "papermill": {
     "duration": 0.0029,
     "end_time": "2025-02-17T01:14:16.358693",
     "exception": false,
     "start_time": "2025-02-17T01:14:16.355793",
     "status": "completed"
    },
    "tags": []
   },
   "source": [
    "# Explanation\n",
    "There are 3 columns namely\n",
    "* Unnamed\n",
    "* YearsExperience\n",
    "* Salary"
   ]
  },
  {
   "cell_type": "markdown",
   "id": "94a57ad2",
   "metadata": {
    "papermill": {
     "duration": 0.003477,
     "end_time": "2025-02-17T01:14:16.365643",
     "exception": false,
     "start_time": "2025-02-17T01:14:16.362166",
     "status": "completed"
    },
    "tags": []
   },
   "source": [
    "# Structure of the dataset\n",
    "* Use the shape function."
   ]
  },
  {
   "cell_type": "code",
   "execution_count": 5,
   "id": "b5d9274f",
   "metadata": {
    "execution": {
     "iopub.execute_input": "2025-02-17T01:14:16.372849Z",
     "iopub.status.busy": "2025-02-17T01:14:16.372477Z",
     "iopub.status.idle": "2025-02-17T01:14:16.378768Z",
     "shell.execute_reply": "2025-02-17T01:14:16.377268Z"
    },
    "papermill": {
     "duration": 0.011851,
     "end_time": "2025-02-17T01:14:16.380464",
     "exception": false,
     "start_time": "2025-02-17T01:14:16.368613",
     "status": "completed"
    },
    "tags": []
   },
   "outputs": [
    {
     "data": {
      "text/plain": [
       "(30, 3)"
      ]
     },
     "execution_count": 5,
     "metadata": {},
     "output_type": "execute_result"
    }
   ],
   "source": [
    "Salary.shape"
   ]
  },
  {
   "cell_type": "markdown",
   "id": "d1b22c99",
   "metadata": {
    "papermill": {
     "duration": 0.002803,
     "end_time": "2025-02-17T01:14:16.386612",
     "exception": false,
     "start_time": "2025-02-17T01:14:16.383809",
     "status": "completed"
    },
    "tags": []
   },
   "source": [
    "# Interpretation\n",
    "* There are 30 entires and 3 columns."
   ]
  },
  {
   "cell_type": "markdown",
   "id": "a0479b00",
   "metadata": {
    "papermill": {
     "duration": 0.00275,
     "end_time": "2025-02-17T01:14:16.392443",
     "exception": false,
     "start_time": "2025-02-17T01:14:16.389693",
     "status": "completed"
    },
    "tags": []
   },
   "source": [
    "# > Displaying columns\n",
    "* Use the columns function to get the column names."
   ]
  },
  {
   "cell_type": "code",
   "execution_count": 6,
   "id": "efb0db64",
   "metadata": {
    "execution": {
     "iopub.execute_input": "2025-02-17T01:14:16.399420Z",
     "iopub.status.busy": "2025-02-17T01:14:16.399096Z",
     "iopub.status.idle": "2025-02-17T01:14:16.404819Z",
     "shell.execute_reply": "2025-02-17T01:14:16.403773Z"
    },
    "papermill": {
     "duration": 0.010894,
     "end_time": "2025-02-17T01:14:16.406144",
     "exception": false,
     "start_time": "2025-02-17T01:14:16.395250",
     "status": "completed"
    },
    "tags": []
   },
   "outputs": [
    {
     "data": {
      "text/plain": [
       "Index(['Unnamed: 0', 'YearsExperience', 'Salary'], dtype='object')"
      ]
     },
     "execution_count": 6,
     "metadata": {},
     "output_type": "execute_result"
    }
   ],
   "source": [
    "Salary.columns"
   ]
  },
  {
   "cell_type": "markdown",
   "id": "0098cbd7",
   "metadata": {
    "papermill": {
     "duration": 0.00271,
     "end_time": "2025-02-17T01:14:16.412040",
     "exception": false,
     "start_time": "2025-02-17T01:14:16.409330",
     "status": "completed"
    },
    "tags": []
   },
   "source": [
    "# Deep Statistics\n",
    "* Use the describe function to gain a deeper understanding of the dataset."
   ]
  },
  {
   "cell_type": "code",
   "execution_count": 7,
   "id": "74a28db4",
   "metadata": {
    "execution": {
     "iopub.execute_input": "2025-02-17T01:14:16.419022Z",
     "iopub.status.busy": "2025-02-17T01:14:16.418723Z",
     "iopub.status.idle": "2025-02-17T01:14:16.437882Z",
     "shell.execute_reply": "2025-02-17T01:14:16.437064Z"
    },
    "papermill": {
     "duration": 0.024262,
     "end_time": "2025-02-17T01:14:16.439197",
     "exception": false,
     "start_time": "2025-02-17T01:14:16.414935",
     "status": "completed"
    },
    "tags": []
   },
   "outputs": [
    {
     "data": {
      "text/html": [
       "<div>\n",
       "<style scoped>\n",
       "    .dataframe tbody tr th:only-of-type {\n",
       "        vertical-align: middle;\n",
       "    }\n",
       "\n",
       "    .dataframe tbody tr th {\n",
       "        vertical-align: top;\n",
       "    }\n",
       "\n",
       "    .dataframe thead th {\n",
       "        text-align: right;\n",
       "    }\n",
       "</style>\n",
       "<table border=\"1\" class=\"dataframe\">\n",
       "  <thead>\n",
       "    <tr style=\"text-align: right;\">\n",
       "      <th></th>\n",
       "      <th>Unnamed: 0</th>\n",
       "      <th>YearsExperience</th>\n",
       "      <th>Salary</th>\n",
       "    </tr>\n",
       "  </thead>\n",
       "  <tbody>\n",
       "    <tr>\n",
       "      <th>count</th>\n",
       "      <td>30.000000</td>\n",
       "      <td>30.000000</td>\n",
       "      <td>30.000000</td>\n",
       "    </tr>\n",
       "    <tr>\n",
       "      <th>mean</th>\n",
       "      <td>14.500000</td>\n",
       "      <td>5.413333</td>\n",
       "      <td>76004.000000</td>\n",
       "    </tr>\n",
       "    <tr>\n",
       "      <th>std</th>\n",
       "      <td>8.803408</td>\n",
       "      <td>2.837888</td>\n",
       "      <td>27414.429785</td>\n",
       "    </tr>\n",
       "    <tr>\n",
       "      <th>min</th>\n",
       "      <td>0.000000</td>\n",
       "      <td>1.200000</td>\n",
       "      <td>37732.000000</td>\n",
       "    </tr>\n",
       "    <tr>\n",
       "      <th>25%</th>\n",
       "      <td>7.250000</td>\n",
       "      <td>3.300000</td>\n",
       "      <td>56721.750000</td>\n",
       "    </tr>\n",
       "    <tr>\n",
       "      <th>50%</th>\n",
       "      <td>14.500000</td>\n",
       "      <td>4.800000</td>\n",
       "      <td>65238.000000</td>\n",
       "    </tr>\n",
       "    <tr>\n",
       "      <th>75%</th>\n",
       "      <td>21.750000</td>\n",
       "      <td>7.800000</td>\n",
       "      <td>100545.750000</td>\n",
       "    </tr>\n",
       "    <tr>\n",
       "      <th>max</th>\n",
       "      <td>29.000000</td>\n",
       "      <td>10.600000</td>\n",
       "      <td>122392.000000</td>\n",
       "    </tr>\n",
       "  </tbody>\n",
       "</table>\n",
       "</div>"
      ],
      "text/plain": [
       "       Unnamed: 0  YearsExperience         Salary\n",
       "count   30.000000        30.000000      30.000000\n",
       "mean    14.500000         5.413333   76004.000000\n",
       "std      8.803408         2.837888   27414.429785\n",
       "min      0.000000         1.200000   37732.000000\n",
       "25%      7.250000         3.300000   56721.750000\n",
       "50%     14.500000         4.800000   65238.000000\n",
       "75%     21.750000         7.800000  100545.750000\n",
       "max     29.000000        10.600000  122392.000000"
      ]
     },
     "execution_count": 7,
     "metadata": {},
     "output_type": "execute_result"
    }
   ],
   "source": [
    "Salary.describe()"
   ]
  },
  {
   "cell_type": "markdown",
   "id": "22aa8a66",
   "metadata": {
    "papermill": {
     "duration": 0.003026,
     "end_time": "2025-02-17T01:14:16.445605",
     "exception": false,
     "start_time": "2025-02-17T01:14:16.442579",
     "status": "completed"
    },
    "tags": []
   },
   "source": [
    "# Summary of the dataset\n",
    "Use the info function to summarize the dataset"
   ]
  },
  {
   "cell_type": "markdown",
   "id": "14397d8a",
   "metadata": {
    "papermill": {
     "duration": 0.002839,
     "end_time": "2025-02-17T01:14:16.451659",
     "exception": false,
     "start_time": "2025-02-17T01:14:16.448820",
     "status": "completed"
    },
    "tags": []
   },
   "source": []
  },
  {
   "cell_type": "code",
   "execution_count": 8,
   "id": "a2a0c250",
   "metadata": {
    "execution": {
     "iopub.execute_input": "2025-02-17T01:14:16.458834Z",
     "iopub.status.busy": "2025-02-17T01:14:16.458539Z",
     "iopub.status.idle": "2025-02-17T01:14:16.478101Z",
     "shell.execute_reply": "2025-02-17T01:14:16.477058Z"
    },
    "papermill": {
     "duration": 0.025298,
     "end_time": "2025-02-17T01:14:16.480003",
     "exception": false,
     "start_time": "2025-02-17T01:14:16.454705",
     "status": "completed"
    },
    "tags": []
   },
   "outputs": [
    {
     "name": "stdout",
     "output_type": "stream",
     "text": [
      "<class 'pandas.core.frame.DataFrame'>\n",
      "RangeIndex: 30 entries, 0 to 29\n",
      "Data columns (total 3 columns):\n",
      " #   Column           Non-Null Count  Dtype  \n",
      "---  ------           --------------  -----  \n",
      " 0   Unnamed: 0       30 non-null     int64  \n",
      " 1   YearsExperience  30 non-null     float64\n",
      " 2   Salary           30 non-null     float64\n",
      "dtypes: float64(2), int64(1)\n",
      "memory usage: 848.0 bytes\n"
     ]
    }
   ],
   "source": [
    "Salary.info()"
   ]
  },
  {
   "cell_type": "code",
   "execution_count": null,
   "id": "190fdfde",
   "metadata": {
    "papermill": {
     "duration": 0.003173,
     "end_time": "2025-02-17T01:14:16.487210",
     "exception": false,
     "start_time": "2025-02-17T01:14:16.484037",
     "status": "completed"
    },
    "tags": []
   },
   "outputs": [],
   "source": []
  }
 ],
 "metadata": {
  "kaggle": {
   "accelerator": "none",
   "dataSources": [
    {
     "datasetId": 2799910,
     "sourceId": 4832081,
     "sourceType": "datasetVersion"
    }
   ],
   "dockerImageVersionId": 30886,
   "isGpuEnabled": false,
   "isInternetEnabled": true,
   "language": "python",
   "sourceType": "notebook"
  },
  "kernelspec": {
   "display_name": "Python 3",
   "language": "python",
   "name": "python3"
  },
  "language_info": {
   "codemirror_mode": {
    "name": "ipython",
    "version": 3
   },
   "file_extension": ".py",
   "mimetype": "text/x-python",
   "name": "python",
   "nbconvert_exporter": "python",
   "pygments_lexer": "ipython3",
   "version": "3.10.12"
  },
  "papermill": {
   "default_parameters": {},
   "duration": 5.901087,
   "end_time": "2025-02-17T01:14:17.109510",
   "environment_variables": {},
   "exception": null,
   "input_path": "__notebook__.ipynb",
   "output_path": "__notebook__.ipynb",
   "parameters": {},
   "start_time": "2025-02-17T01:14:11.208423",
   "version": "2.6.0"
  }
 },
 "nbformat": 4,
 "nbformat_minor": 5
}
